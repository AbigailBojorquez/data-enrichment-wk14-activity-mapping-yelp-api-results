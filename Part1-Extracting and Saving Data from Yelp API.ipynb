{
 "cells": [
  {
   "cell_type": "markdown",
   "metadata": {
    "id": "8guYh-VR7nlX"
   },
   "source": [
    "# Extracting and Saving Data from Yelp API"
   ]
  },
  {
   "cell_type": "code",
   "execution_count": 1,
   "metadata": {},
   "outputs": [],
   "source": [
    "# Standard Imports\n",
    "import numpy as np\n",
    "import pandas as pd\n",
    "import matplotlib.pyplot as plt\n",
    "import seaborn as sns\n",
    "\n",
    "# Additional Imports\n",
    "import os, json, math, time\n",
    "from yelpapi import YelpAPI\n",
    "from tqdm.notebook import tqdm_notebook"
   ]
  },
  {
   "cell_type": "code",
   "execution_count": 2,
   "metadata": {},
   "outputs": [
    {
     "name": "stdout",
     "output_type": "stream",
     "text": [
      "Requirement already satisfied: yelpapi in /Users/abigailbojorquez/opt/anaconda3/envs/dojo-env/lib/python3.8/site-packages (2.4.0)\r\n",
      "Requirement already satisfied: requests in /Users/abigailbojorquez/opt/anaconda3/envs/dojo-env/lib/python3.8/site-packages (from yelpapi) (2.28.1)\r\n",
      "Requirement already satisfied: idna<4,>=2.5 in /Users/abigailbojorquez/opt/anaconda3/envs/dojo-env/lib/python3.8/site-packages (from requests->yelpapi) (3.3)\r\n",
      "Requirement already satisfied: charset-normalizer<3,>=2 in /Users/abigailbojorquez/opt/anaconda3/envs/dojo-env/lib/python3.8/site-packages (from requests->yelpapi) (2.1.1)\r\n",
      "Requirement already satisfied: certifi>=2017.4.17 in /Users/abigailbojorquez/opt/anaconda3/envs/dojo-env/lib/python3.8/site-packages (from requests->yelpapi) (2022.9.24)\r\n",
      "Requirement already satisfied: urllib3<1.27,>=1.21.1 in /Users/abigailbojorquez/opt/anaconda3/envs/dojo-env/lib/python3.8/site-packages (from requests->yelpapi) (1.26.8)\r\n"
     ]
    }
   ],
   "source": [
    "!pip install yelpapi"
   ]
  },
  {
   "cell_type": "markdown",
   "metadata": {},
   "source": [
    "### Load Credentials and Create Yelp API Object"
   ]
  },
  {
   "cell_type": "code",
   "execution_count": 3,
   "metadata": {
    "ExecuteTime": {
     "end_time": "2022-03-25T18:20:46.629934Z",
     "start_time": "2022-03-25T18:20:45.915864Z"
    },
    "colab": {
     "base_uri": "https://localhost:8080/"
    },
    "id": "xJYqVvNkE36a",
    "outputId": "67798160-dea2-41fc-9040-2b3833efa560"
   },
   "outputs": [
    {
     "data": {
      "text/plain": [
       "dict_keys(['Client-id', 'API-key'])"
      ]
     },
     "execution_count": 3,
     "metadata": {},
     "output_type": "execute_result"
    }
   ],
   "source": [
    "# Load API Credentials\n",
    "with open('/Users/abigailbojorquez/.secret/yelp_api.json') as f: #change the path to match YOUR path!!\n",
    "    login = json.load(f)\n",
    "login.keys()"
   ]
  },
  {
   "cell_type": "code",
   "execution_count": 4,
   "metadata": {},
   "outputs": [
    {
     "data": {
      "text/plain": [
       "<yelpapi.yelpapi.YelpAPI at 0x7fb8a7258160>"
      ]
     },
     "execution_count": 4,
     "metadata": {},
     "output_type": "execute_result"
    }
   ],
   "source": [
    "# Instantiate YelpAPI Variable\n",
    "yelp = YelpAPI(login['API-key'], timeout_s=5.0)\n",
    "yelp"
   ]
  },
  {
   "cell_type": "markdown",
   "metadata": {},
   "source": [
    "### Define Search Terms and File Paths"
   ]
  },
  {
   "cell_type": "code",
   "execution_count": 5,
   "metadata": {},
   "outputs": [],
   "source": [
    "# set our API call parameters and filename before the first call\n",
    "# set our API call parameters \n",
    "LOCATION = 'Huntington Beach, CA 92647'\n",
    "TERM = 'italian'\n"
   ]
  },
  {
   "cell_type": "code",
   "execution_count": 6,
   "metadata": {},
   "outputs": [],
   "source": [
    "## Specify fodler for saving data\n",
    "FOLDER = 'Data/'\n",
    "os.makedirs(FOLDER,exist_ok=True)"
   ]
  },
  {
   "cell_type": "code",
   "execution_count": 7,
   "metadata": {},
   "outputs": [
    {
     "data": {
      "text/plain": [
       "'Huntington Beach'"
      ]
     },
     "execution_count": 7,
     "metadata": {},
     "output_type": "execute_result"
    }
   ],
   "source": [
    "LOCATION.split(',')[0]"
   ]
  },
  {
   "cell_type": "code",
   "execution_count": 8,
   "metadata": {},
   "outputs": [],
   "source": [
    "# Specifying JSON_FILE filename (can include a folder)\n",
    "JSON_FILE = FOLDER+f\"{LOCATION.split(',')[0]}-(term).json\""
   ]
  },
  {
   "cell_type": "code",
   "execution_count": 9,
   "metadata": {},
   "outputs": [
    {
     "data": {
      "text/plain": [
       "'Data/Huntington Beach-(term).json'"
      ]
     },
     "execution_count": 9,
     "metadata": {},
     "output_type": "execute_result"
    }
   ],
   "source": [
    "JSON_FILE"
   ]
  },
  {
   "cell_type": "markdown",
   "metadata": {},
   "source": [
    "### Check if Json File exists and Create it if it doesn't"
   ]
  },
  {
   "cell_type": "code",
   "execution_count": 10,
   "metadata": {},
   "outputs": [
    {
     "name": "stdout",
     "output_type": "stream",
     "text": [
      "[i]Data/Huntington Beach-(term).json already exists\n"
     ]
    }
   ],
   "source": [
    "## Check if JSON_FILE exists\n",
    "file_exists = os.path.isfile(JSON_FILE)\n",
    "## If it does not exist: \n",
    "if file_exists == False:\n",
    "    ## CREATE ANY NEEDED FOLDERS\n",
    "    # Get the Folder Name only\n",
    "    folder = os.path.dirname(JSON_FILE)\n",
    "    \n",
    "    ## If JSON_FILE included a folder:\n",
    "    if len(folder)>0:\n",
    "        # create the folder\n",
    "        os.makedirs(folder, exist_ok=True)\n",
    "        \n",
    "        \n",
    "    ## INFORM USER AND SAVE EMPTY LIST\n",
    "    print(f\"[i] {JSON_FILE} not found. Saving empty list to file.\")\n",
    "    \n",
    "    \n",
    "    ## save the first page of results\n",
    "    with open (JSON_FILE, 'w') as f:\n",
    "            json.dump([],f)\n",
    "        \n",
    "## If it exists, inform user\n",
    "else:\n",
    "    print(f\"[i]{JSON_FILE} already exists\")"
   ]
  },
  {
   "cell_type": "markdown",
   "metadata": {},
   "source": [
    "### Make the first API call to get the first page of data"
   ]
  },
  {
   "cell_type": "code",
   "execution_count": 15,
   "metadata": {},
   "outputs": [],
   "source": [
    "# use our yelp_api variable's search_query method to perform our API call\n",
    "results = yelp.search_query(term = TERM,location = LOCATION)"
   ]
  },
  {
   "cell_type": "code",
   "execution_count": 16,
   "metadata": {
    "ExecuteTime": {
     "end_time": "2022-03-24T20:01:48.867510Z",
     "start_time": "2022-03-24T20:01:48.854746Z"
    },
    "colab": {
     "base_uri": "https://localhost:8080/"
    },
    "id": "Myur3i1KGhPf",
    "outputId": "f447c6f9-596b-41d0-ccda-50af0ce82108"
   },
   "outputs": [
    {
     "data": {
      "text/plain": [
       "dict"
      ]
     },
     "execution_count": 16,
     "metadata": {},
     "output_type": "execute_result"
    }
   ],
   "source": [
    "## How many results total?\n",
    "type(results)"
   ]
  },
  {
   "cell_type": "code",
   "execution_count": 17,
   "metadata": {},
   "outputs": [
    {
     "data": {
      "text/plain": [
       "3"
      ]
     },
     "execution_count": 17,
     "metadata": {},
     "output_type": "execute_result"
    }
   ],
   "source": [
    "len(results)"
   ]
  },
  {
   "cell_type": "code",
   "execution_count": 18,
   "metadata": {},
   "outputs": [
    {
     "data": {
      "text/plain": [
       "dict_keys(['businesses', 'total', 'region'])"
      ]
     },
     "execution_count": 18,
     "metadata": {},
     "output_type": "execute_result"
    }
   ],
   "source": [
    "results.keys()"
   ]
  },
  {
   "cell_type": "code",
   "execution_count": 19,
   "metadata": {},
   "outputs": [
    {
     "data": {
      "text/plain": [
       "395"
      ]
     },
     "execution_count": 19,
     "metadata": {},
     "output_type": "execute_result"
    }
   ],
   "source": [
    "results['total']"
   ]
  },
  {
   "cell_type": "code",
   "execution_count": 20,
   "metadata": {},
   "outputs": [
    {
     "data": {
      "text/plain": [
       "20"
      ]
     },
     "execution_count": 20,
     "metadata": {},
     "output_type": "execute_result"
    }
   ],
   "source": [
    "## How many did we get the details for?\n",
    "results_per_page = len(results['businesses'])\n",
    "results_per_page"
   ]
  },
  {
   "cell_type": "code",
   "execution_count": 21,
   "metadata": {},
   "outputs": [
    {
     "data": {
      "text/plain": [
       "20"
      ]
     },
     "execution_count": 21,
     "metadata": {},
     "output_type": "execute_result"
    }
   ],
   "source": [
    "# Use math.ceil to round up for the total number of pages of results.\n",
    "import time, math\n",
    "\n",
    "n_pages = math.ceil((results['total'])/ results_per_page)\n",
    "n_pages"
   ]
  },
  {
   "cell_type": "code",
   "execution_count": 26,
   "metadata": {},
   "outputs": [
    {
     "data": {
      "application/vnd.jupyter.widget-view+json": {
       "model_id": "d17a3cda7ec84224bd20488368df6f18",
       "version_major": 2,
       "version_minor": 0
      },
      "text/plain": [
       "  0%|          | 0/20 [00:00<?, ?it/s]"
      ]
     },
     "metadata": {},
     "output_type": "display_data"
    }
   ],
   "source": [
    "for i in tqdm_notebook( range(1,n_pages+1)):\n",
    "    try:\n",
    "        time.sleep(.2)\n",
    "        with open (JSON_FILE, 'r') as f:\n",
    "            previous_results = json.load(f)\n",
    "        n_results = len(previous_results)\n",
    "        results = yelp.search_query(location = LOCATION, TERM = TERM, offest = n_results+1)\n",
    "        previous_results.extend(results['businesses'])\n",
    "        with open (JSON_FILE, 'w') as f:\n",
    "            json.dump(previous_results,f)\n",
    "    except Exception as e:\n",
    "        print('[!] ERROR:', e)\n"
   ]
  },
  {
   "cell_type": "markdown",
   "metadata": {},
   "source": [
    "## Open the Final JSON File with Pandas"
   ]
  },
  {
   "cell_type": "code",
   "execution_count": 27,
   "metadata": {},
   "outputs": [
    {
     "data": {
      "text/html": [
       "<div>\n",
       "<style scoped>\n",
       "    .dataframe tbody tr th:only-of-type {\n",
       "        vertical-align: middle;\n",
       "    }\n",
       "\n",
       "    .dataframe tbody tr th {\n",
       "        vertical-align: top;\n",
       "    }\n",
       "\n",
       "    .dataframe thead th {\n",
       "        text-align: right;\n",
       "    }\n",
       "</style>\n",
       "<table border=\"1\" class=\"dataframe\">\n",
       "  <thead>\n",
       "    <tr style=\"text-align: right;\">\n",
       "      <th></th>\n",
       "      <th>id</th>\n",
       "      <th>alias</th>\n",
       "      <th>name</th>\n",
       "      <th>image_url</th>\n",
       "      <th>is_closed</th>\n",
       "      <th>url</th>\n",
       "      <th>review_count</th>\n",
       "      <th>categories</th>\n",
       "      <th>rating</th>\n",
       "      <th>coordinates</th>\n",
       "      <th>transactions</th>\n",
       "      <th>price</th>\n",
       "      <th>location</th>\n",
       "      <th>phone</th>\n",
       "      <th>display_phone</th>\n",
       "      <th>distance</th>\n",
       "    </tr>\n",
       "  </thead>\n",
       "  <tbody>\n",
       "    <tr>\n",
       "      <th>0</th>\n",
       "      <td>ia09aCVFnDFwoRweRwhcLQ</td>\n",
       "      <td>bunz-huntington-beach-3</td>\n",
       "      <td>Bunz</td>\n",
       "      <td>https://s3-media2.fl.yelpcdn.com/bphoto/GWN6QW...</td>\n",
       "      <td>False</td>\n",
       "      <td>https://www.yelp.com/biz/bunz-huntington-beach...</td>\n",
       "      <td>1662</td>\n",
       "      <td>[{'alias': 'hotdog', 'title': 'Hot Dogs'}, {'a...</td>\n",
       "      <td>4.5</td>\n",
       "      <td>{'latitude': 33.733991, 'longitude': -117.998171}</td>\n",
       "      <td>[delivery, pickup]</td>\n",
       "      <td>$</td>\n",
       "      <td>{'address1': '7491 Center Ave', 'address2': No...</td>\n",
       "      <td>17147667060</td>\n",
       "      <td>(714) 766-7060</td>\n",
       "      <td>1196.818773</td>\n",
       "    </tr>\n",
       "    <tr>\n",
       "      <th>1</th>\n",
       "      <td>Xo9gKql3lRZc2iRQcRwPtQ</td>\n",
       "      <td>the-donuttery-huntington-beach</td>\n",
       "      <td>The Donuttery</td>\n",
       "      <td>https://s3-media2.fl.yelpcdn.com/bphoto/dNBilk...</td>\n",
       "      <td>False</td>\n",
       "      <td>https://www.yelp.com/biz/the-donuttery-hunting...</td>\n",
       "      <td>4492</td>\n",
       "      <td>[{'alias': 'donuts', 'title': 'Donuts'}, {'ali...</td>\n",
       "      <td>4.5</td>\n",
       "      <td>{'latitude': 33.7094609, 'longitude': -117.988...</td>\n",
       "      <td>[delivery, pickup]</td>\n",
       "      <td>$</td>\n",
       "      <td>{'address1': '17420 Beach Blvd', 'address2': '...</td>\n",
       "      <td>17148477000</td>\n",
       "      <td>(714) 847-7000</td>\n",
       "      <td>2501.334330</td>\n",
       "    </tr>\n",
       "    <tr>\n",
       "      <th>2</th>\n",
       "      <td>vAzVWlsBPJx4nDNJb3cVEw</td>\n",
       "      <td>curry-and-kabab-bistro-huntington-beach</td>\n",
       "      <td>Curry &amp; Kabab Bistro</td>\n",
       "      <td>https://s3-media4.fl.yelpcdn.com/bphoto/Dcjkjo...</td>\n",
       "      <td>False</td>\n",
       "      <td>https://www.yelp.com/biz/curry-and-kabab-bistr...</td>\n",
       "      <td>1091</td>\n",
       "      <td>[{'alias': 'indpak', 'title': 'Indian'}]</td>\n",
       "      <td>4.5</td>\n",
       "      <td>{'latitude': 33.7299751, 'longitude': -118.005...</td>\n",
       "      <td>[delivery, pickup]</td>\n",
       "      <td>$$</td>\n",
       "      <td>{'address1': '7114 Edinger Ave', 'address2': N...</td>\n",
       "      <td>17148411800</td>\n",
       "      <td>(714) 841-1800</td>\n",
       "      <td>289.502944</td>\n",
       "    </tr>\n",
       "    <tr>\n",
       "      <th>3</th>\n",
       "      <td>-E3RrsOr4QUIr_q-sS1D4g</td>\n",
       "      <td>subculture-extraordinary-sandwiches-huntington...</td>\n",
       "      <td>Subculture Extraordinary Sandwiches</td>\n",
       "      <td>https://s3-media1.fl.yelpcdn.com/bphoto/BMfil2...</td>\n",
       "      <td>False</td>\n",
       "      <td>https://www.yelp.com/biz/subculture-extraordin...</td>\n",
       "      <td>2358</td>\n",
       "      <td>[{'alias': 'sandwiches', 'title': 'Sandwiches'}]</td>\n",
       "      <td>4.5</td>\n",
       "      <td>{'latitude': 33.71513, 'longitude': -117.9905}</td>\n",
       "      <td>[delivery]</td>\n",
       "      <td>$$</td>\n",
       "      <td>{'address1': '7862 Warner Ave', 'address2': 'S...</td>\n",
       "      <td>17148471113</td>\n",
       "      <td>(714) 847-1113</td>\n",
       "      <td>1941.765373</td>\n",
       "    </tr>\n",
       "    <tr>\n",
       "      <th>4</th>\n",
       "      <td>mtn4uojv4aXT5-WfTKnxow</td>\n",
       "      <td>the-vox-kitchen-by-kei-concepts-fountain-valley</td>\n",
       "      <td>The Vox Kitchen by Kei Concepts</td>\n",
       "      <td>https://s3-media3.fl.yelpcdn.com/bphoto/cRv41y...</td>\n",
       "      <td>False</td>\n",
       "      <td>https://www.yelp.com/biz/the-vox-kitchen-by-ke...</td>\n",
       "      <td>5691</td>\n",
       "      <td>[{'alias': 'vietnamese', 'title': 'Vietnamese'...</td>\n",
       "      <td>4.5</td>\n",
       "      <td>{'latitude': 33.72744, 'longitude': -117.95568}</td>\n",
       "      <td>[restaurant_reservation, delivery, pickup]</td>\n",
       "      <td>$$</td>\n",
       "      <td>{'address1': '16161 Brookhurst St', 'address2'...</td>\n",
       "      <td>16572316493</td>\n",
       "      <td>(657) 231-6493</td>\n",
       "      <td>4697.235640</td>\n",
       "    </tr>\n",
       "  </tbody>\n",
       "</table>\n",
       "</div>"
      ],
      "text/plain": [
       "                       id                                              alias  \\\n",
       "0  ia09aCVFnDFwoRweRwhcLQ                            bunz-huntington-beach-3   \n",
       "1  Xo9gKql3lRZc2iRQcRwPtQ                     the-donuttery-huntington-beach   \n",
       "2  vAzVWlsBPJx4nDNJb3cVEw            curry-and-kabab-bistro-huntington-beach   \n",
       "3  -E3RrsOr4QUIr_q-sS1D4g  subculture-extraordinary-sandwiches-huntington...   \n",
       "4  mtn4uojv4aXT5-WfTKnxow    the-vox-kitchen-by-kei-concepts-fountain-valley   \n",
       "\n",
       "                                  name  \\\n",
       "0                                 Bunz   \n",
       "1                        The Donuttery   \n",
       "2                 Curry & Kabab Bistro   \n",
       "3  Subculture Extraordinary Sandwiches   \n",
       "4      The Vox Kitchen by Kei Concepts   \n",
       "\n",
       "                                           image_url  is_closed  \\\n",
       "0  https://s3-media2.fl.yelpcdn.com/bphoto/GWN6QW...      False   \n",
       "1  https://s3-media2.fl.yelpcdn.com/bphoto/dNBilk...      False   \n",
       "2  https://s3-media4.fl.yelpcdn.com/bphoto/Dcjkjo...      False   \n",
       "3  https://s3-media1.fl.yelpcdn.com/bphoto/BMfil2...      False   \n",
       "4  https://s3-media3.fl.yelpcdn.com/bphoto/cRv41y...      False   \n",
       "\n",
       "                                                 url  review_count  \\\n",
       "0  https://www.yelp.com/biz/bunz-huntington-beach...          1662   \n",
       "1  https://www.yelp.com/biz/the-donuttery-hunting...          4492   \n",
       "2  https://www.yelp.com/biz/curry-and-kabab-bistr...          1091   \n",
       "3  https://www.yelp.com/biz/subculture-extraordin...          2358   \n",
       "4  https://www.yelp.com/biz/the-vox-kitchen-by-ke...          5691   \n",
       "\n",
       "                                          categories  rating  \\\n",
       "0  [{'alias': 'hotdog', 'title': 'Hot Dogs'}, {'a...     4.5   \n",
       "1  [{'alias': 'donuts', 'title': 'Donuts'}, {'ali...     4.5   \n",
       "2           [{'alias': 'indpak', 'title': 'Indian'}]     4.5   \n",
       "3   [{'alias': 'sandwiches', 'title': 'Sandwiches'}]     4.5   \n",
       "4  [{'alias': 'vietnamese', 'title': 'Vietnamese'...     4.5   \n",
       "\n",
       "                                         coordinates  \\\n",
       "0  {'latitude': 33.733991, 'longitude': -117.998171}   \n",
       "1  {'latitude': 33.7094609, 'longitude': -117.988...   \n",
       "2  {'latitude': 33.7299751, 'longitude': -118.005...   \n",
       "3     {'latitude': 33.71513, 'longitude': -117.9905}   \n",
       "4    {'latitude': 33.72744, 'longitude': -117.95568}   \n",
       "\n",
       "                                 transactions price  \\\n",
       "0                          [delivery, pickup]     $   \n",
       "1                          [delivery, pickup]     $   \n",
       "2                          [delivery, pickup]    $$   \n",
       "3                                  [delivery]    $$   \n",
       "4  [restaurant_reservation, delivery, pickup]    $$   \n",
       "\n",
       "                                            location        phone  \\\n",
       "0  {'address1': '7491 Center Ave', 'address2': No...  17147667060   \n",
       "1  {'address1': '17420 Beach Blvd', 'address2': '...  17148477000   \n",
       "2  {'address1': '7114 Edinger Ave', 'address2': N...  17148411800   \n",
       "3  {'address1': '7862 Warner Ave', 'address2': 'S...  17148471113   \n",
       "4  {'address1': '16161 Brookhurst St', 'address2'...  16572316493   \n",
       "\n",
       "    display_phone     distance  \n",
       "0  (714) 766-7060  1196.818773  \n",
       "1  (714) 847-7000  2501.334330  \n",
       "2  (714) 841-1800   289.502944  \n",
       "3  (714) 847-1113  1941.765373  \n",
       "4  (657) 231-6493  4697.235640  "
      ]
     },
     "execution_count": 27,
     "metadata": {},
     "output_type": "execute_result"
    }
   ],
   "source": [
    "df = pd.read_json(JSON_FILE)\n",
    "df.head()"
   ]
  },
  {
   "cell_type": "code",
   "execution_count": 28,
   "metadata": {},
   "outputs": [
    {
     "data": {
      "text/plain": [
       "'Data/Huntington Beach-(term).csv.gz'"
      ]
     },
     "execution_count": 28,
     "metadata": {},
     "output_type": "execute_result"
    }
   ],
   "source": [
    "## convert the filename to a .csv.gz\n",
    "csv_file = JSON_FILE.replace('.json','.csv.gz')\n",
    "csv_file"
   ]
  },
  {
   "cell_type": "code",
   "execution_count": 29,
   "metadata": {},
   "outputs": [],
   "source": [
    "## Save it as a compressed csv (to save space)\n",
    "df.to_csv(csv_file, compression = 'gzip', index = False)"
   ]
  }
 ],
 "metadata": {
  "colab": {
   "collapsed_sections": [],
   "name": "Test Yelp API Package.ipynb",
   "provenance": []
  },
  "kernelspec": {
   "display_name": "Python (dojo-env)",
   "language": "python",
   "name": "dojo-env"
  },
  "language_info": {
   "codemirror_mode": {
    "name": "ipython",
    "version": 3
   },
   "file_extension": ".py",
   "mimetype": "text/x-python",
   "name": "python",
   "nbconvert_exporter": "python",
   "pygments_lexer": "ipython3",
   "version": "3.8.13"
  },
  "toc": {
   "base_numbering": 1,
   "nav_menu": {},
   "number_sections": false,
   "sideBar": true,
   "skip_h1_title": false,
   "title_cell": "Table of Contents",
   "title_sidebar": "Contents",
   "toc_cell": false,
   "toc_position": {
    "height": "calc(100% - 180px)",
    "left": "10px",
    "top": "150px",
    "width": "165px"
   },
   "toc_section_display": true,
   "toc_window_display": true
  }
 },
 "nbformat": 4,
 "nbformat_minor": 1
}
